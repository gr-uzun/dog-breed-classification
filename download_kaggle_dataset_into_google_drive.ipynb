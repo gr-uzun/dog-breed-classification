{
  "nbformat": 4,
  "nbformat_minor": 0,
  "metadata": {
    "colab": {
      "provenance": [],
      "mount_file_id": "1BTNHsX8tu47e8V24_TLSNupM6odmISSs",
      "authorship_tag": "ABX9TyNaKZRTbu2iqwZihLNifb85",
      "include_colab_link": true
    },
    "kernelspec": {
      "name": "python3",
      "display_name": "Python 3"
    },
    "language_info": {
      "name": "python"
    }
  },
  "cells": [
    {
      "cell_type": "markdown",
      "metadata": {
        "id": "view-in-github",
        "colab_type": "text"
      },
      "source": [
        "<a href=\"https://colab.research.google.com/github/gr-uzun/dog-breed-classification/blob/main/download_kaggle_dataset_into_google_drive.ipynb\" target=\"_parent\"><img src=\"https://colab.research.google.com/assets/colab-badge.svg\" alt=\"Open In Colab\"/></a>"
      ]
    },
    {
      "cell_type": "markdown",
      "source": [
        "**Downloading Kaggle Dataset directly into Google Drive (COLAB)**"
      ],
      "metadata": {
        "id": "PVivgrQagshI"
      }
    },
    {
      "cell_type": "code",
      "execution_count": null,
      "metadata": {
        "colab": {
          "base_uri": "https://localhost:8080/"
        },
        "id": "7XgRqAh_f2Oi",
        "outputId": "0b0da6a0-9696-401d-f681-2b05fc853361"
      },
      "outputs": [
        {
          "output_type": "stream",
          "name": "stdout",
          "text": [
            "Requirement already satisfied: Kaggle in /usr/local/lib/python3.10/dist-packages (1.5.16)\n",
            "Requirement already satisfied: six>=1.10 in /usr/local/lib/python3.10/dist-packages (from Kaggle) (1.16.0)\n",
            "Requirement already satisfied: certifi in /usr/local/lib/python3.10/dist-packages (from Kaggle) (2023.7.22)\n",
            "Requirement already satisfied: python-dateutil in /usr/local/lib/python3.10/dist-packages (from Kaggle) (2.8.2)\n",
            "Requirement already satisfied: requests in /usr/local/lib/python3.10/dist-packages (from Kaggle) (2.31.0)\n",
            "Requirement already satisfied: tqdm in /usr/local/lib/python3.10/dist-packages (from Kaggle) (4.66.1)\n",
            "Requirement already satisfied: python-slugify in /usr/local/lib/python3.10/dist-packages (from Kaggle) (8.0.1)\n",
            "Requirement already satisfied: urllib3 in /usr/local/lib/python3.10/dist-packages (from Kaggle) (2.0.7)\n",
            "Requirement already satisfied: bleach in /usr/local/lib/python3.10/dist-packages (from Kaggle) (6.1.0)\n",
            "Requirement already satisfied: webencodings in /usr/local/lib/python3.10/dist-packages (from bleach->Kaggle) (0.5.1)\n",
            "Requirement already satisfied: text-unidecode>=1.3 in /usr/local/lib/python3.10/dist-packages (from python-slugify->Kaggle) (1.3)\n",
            "Requirement already satisfied: charset-normalizer<4,>=2 in /usr/local/lib/python3.10/dist-packages (from requests->Kaggle) (3.3.2)\n",
            "Requirement already satisfied: idna<4,>=2.5 in /usr/local/lib/python3.10/dist-packages (from requests->Kaggle) (3.4)\n"
          ]
        }
      ],
      "source": [
        "# Install the Kaggle Python library\n",
        "!pip install Kaggle"
      ]
    },
    {
      "cell_type": "code",
      "source": [
        "# Mount your drive to Colab Notebook.\n",
        "from google.colab import drive\n",
        "drive.mount('/content/drive')"
      ],
      "metadata": {
        "colab": {
          "base_uri": "https://localhost:8080/"
        },
        "id": "Zm8qg6rwkz1B",
        "outputId": "5550447b-f39f-4c5b-cbc8-1d815c9a9705"
      },
      "execution_count": null,
      "outputs": [
        {
          "output_type": "stream",
          "name": "stdout",
          "text": [
            "Drive already mounted at /content/drive; to attempt to forcibly remount, call drive.mount(\"/content/drive\", force_remount=True).\n"
          ]
        }
      ]
    },
    {
      "cell_type": "code",
      "source": [
        "# Go to path where you want to download the dataset in your drive.\n",
        "%cd /content/drive/MyDrive/\"Colab Notebooks\"/dog_breed_classification"
      ],
      "metadata": {
        "colab": {
          "base_uri": "https://localhost:8080/"
        },
        "id": "qsKc1qdFlRZK",
        "outputId": "32f5ece0-164a-4d18-d19f-e0a97cbcb4a0"
      },
      "execution_count": null,
      "outputs": [
        {
          "output_type": "stream",
          "name": "stdout",
          "text": [
            "/content/drive/MyDrive/Colab Notebooks/dog_breed_classification\n"
          ]
        }
      ]
    },
    {
      "cell_type": "code",
      "source": [
        "!pwd"
      ],
      "metadata": {
        "colab": {
          "base_uri": "https://localhost:8080/"
        },
        "id": "vqFk7t4hxhBQ",
        "outputId": "21e21236-31f9-40b2-c526-b863b8e855c0"
      },
      "execution_count": null,
      "outputs": [
        {
          "output_type": "stream",
          "name": "stdout",
          "text": [
            "/content/drive/MyDrive/Colab Notebooks/dog_breed_classification\n"
          ]
        }
      ]
    },
    {
      "cell_type": "markdown",
      "source": [
        "Take your Token from Kaggle. For this:¶\n",
        "* Go to My Account (Not My Profile)\n",
        "* Go to API Section and click on Create New API Token\n",
        "* Download the token, which will be saved as a .json file (e.g. kaggle.json)"
      ],
      "metadata": {
        "id": "A6CD2XSiq10_"
      }
    },
    {
      "cell_type": "code",
      "source": [
        "# Use this code to upload API Token from Kaggle:\n",
        "from google.colab import files\n",
        "files.upload()"
      ],
      "metadata": {
        "id": "vsCzd1Tvq0yN"
      },
      "execution_count": null,
      "outputs": []
    },
    {
      "cell_type": "code",
      "source": [
        "!mkdir -p ~/.kaggle\n",
        "!cp kaggle.json ~/.kaggle/\n",
        "!chmod 600 ~/.kaggle/kaggle.json\n",
        "!rm kaggle.json"
      ],
      "metadata": {
        "id": "CfTs2g5jsGLA"
      },
      "execution_count": null,
      "outputs": []
    },
    {
      "cell_type": "code",
      "source": [
        "# Go to your desired Dataset page of Kaggle. Agree with the terms and then copy the API Command.\n",
        "!kaggle datasets download -d amandam1/120-dog-breeds-breed-classification"
      ],
      "metadata": {
        "colab": {
          "base_uri": "https://localhost:8080/"
        },
        "id": "x1BWI3ihtYbT",
        "outputId": "870087ba-b18c-4fe5-d2c8-3b2d94989d59"
      },
      "execution_count": null,
      "outputs": [
        {
          "output_type": "stream",
          "name": "stdout",
          "text": [
            "Downloading 120-dog-breeds-breed-classification.zip to /content/drive/MyDrive/Colab Notebooks/dog_breed_classification\n",
            "100% 737M/740M [00:08<00:00, 95.7MB/s]\n",
            "100% 740M/740M [00:08<00:00, 94.6MB/s]\n"
          ]
        }
      ]
    },
    {
      "cell_type": "code",
      "source": [
        "# To unzip your dataset\n",
        "from zipfile import ZipFile\n",
        "\n",
        "file_name=\"/content/drive/MyDrive/Colab Notebooks/dog_breed_classification/120-dog-breeds-breed-classification.zip\"\n",
        "with ZipFile(file_name,'r') as zip:\n",
        "  zip.extractall()\n",
        "  print('Done')"
      ],
      "metadata": {
        "colab": {
          "base_uri": "https://localhost:8080/"
        },
        "id": "s8iC2vdLwDBY",
        "outputId": "70d65417-56fc-4be8-83d7-0d0f71055b5a"
      },
      "execution_count": null,
      "outputs": [
        {
          "output_type": "stream",
          "name": "stdout",
          "text": [
            "Done\n"
          ]
        }
      ]
    }
  ]
}